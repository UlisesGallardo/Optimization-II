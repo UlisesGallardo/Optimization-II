{
 "cells": [
  {
   "cell_type": "code",
   "execution_count": 1,
   "metadata": {},
   "outputs": [],
   "source": [
    "import os\n",
    "import imageio\n",
    "import numpy as np\n",
    "from  IPython.display import clear_output\n",
    "import time"
   ]
  },
  {
   "cell_type": "code",
   "execution_count": 2,
   "metadata": {},
   "outputs": [],
   "source": [
    "import re\n",
    "def sorted_alphanumeric(data):\n",
    "    convert = lambda text: int(text) if text.isdigit() else text.lower()\n",
    "    alphanum_key = lambda key: [ convert(c) for c in re.split('([0-9]+)', key) ] \n",
    "    return sorted(data, key=alphanum_key)"
   ]
  },
  {
   "cell_type": "code",
   "execution_count": 3,
   "metadata": {},
   "outputs": [
    {
     "name": "stdout",
     "output_type": "stream",
     "text": [
      "savedimage2646.png\n",
      "procesando gif\n"
     ]
    }
   ],
   "source": [
    "from importlib.resources import path\n",
    "path='D:/Notebooks/Optimizacion II/4.-Differential Evolution/Gif/Img01/'\n",
    "archivos = sorted_alphanumeric(os.listdir(path))\n",
    "\n",
    "img_array = []\n",
    "for x in range(len(archivos)):\n",
    "    nomArchivo = archivos[x]\n",
    "    dirArchivo = path + nomArchivo\n",
    "\n",
    "    leer_imagen = imageio.imread(dirArchivo)\n",
    "    img_array.append(leer_imagen)\n",
    "    clear_output(wait=True, )\n",
    "    print(nomArchivo)\n",
    "    time.sleep(0.02)\n",
    "print(\"procesando gif\")\n",
    "imageio.mimwrite(\"Lisa.gif\",img_array,'GIF', duration=0.008)"
   ]
  }
 ],
 "metadata": {
  "kernelspec": {
   "display_name": "Python 3.9.12 ('base')",
   "language": "python",
   "name": "python3"
  },
  "language_info": {
   "codemirror_mode": {
    "name": "ipython",
    "version": 3
   },
   "file_extension": ".py",
   "mimetype": "text/x-python",
   "name": "python",
   "nbconvert_exporter": "python",
   "pygments_lexer": "ipython3",
   "version": "3.9.12"
  },
  "orig_nbformat": 4,
  "vscode": {
   "interpreter": {
    "hash": "75452d903801b36f815cbe0b287f467b902c6d3dd867d618adaca35749f005bd"
   }
  }
 },
 "nbformat": 4,
 "nbformat_minor": 2
}
