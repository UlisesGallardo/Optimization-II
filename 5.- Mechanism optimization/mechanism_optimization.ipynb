{
 "cells": [
  {
   "cell_type": "code",
   "execution_count": 58,
   "metadata": {},
   "outputs": [],
   "source": [
    "import numpy as np\n",
    "import matplotlib.pyplot as plt\n",
    "import numpy as np\n",
    "from  IPython.display import clear_output"
   ]
  },
  {
   "cell_type": "markdown",
   "metadata": {},
   "source": [
    "## Objetive functions"
   ]
  },
  {
   "cell_type": "code",
   "execution_count": 59,
   "metadata": {},
   "outputs": [],
   "source": [
    "def ShF2(x_c1,x_c2,x_c3,y_c1,y_c2,y_c3,t_c1,t_c2,t_c3):\n",
    "    return 2.224e-8 * np.sqrt(\n",
    "    1.897e23 * t_c3 ** 2 * y_c3 ** 6 + 7.785e6 * t_c3 ** 2 * x_c3 * y_c3 ** 5 + 5.691e23 * t_c3 ** 2 * x_c3 ** 2 * y_c3 ** 4 + 1.557e7 * t_c3 ** 2 * x_c3 ** 3 * y_c3 ** 3 + 1.392e18 * t_c3 * y_c3 ** 3 + 2.742e23 * t_c2 * y_c2 ** 3 * t_c3 * y_c3 ** 3 - 1.314e22 * t_c2 * x_c2 * y_c2 ** 2 * t_c3 *\n",
    "    y_c3 ** 3 + 1.025e22 * t_c2 * y_c2 ** 2 * t_c3 * y_c3 ** 3 + 2.742e23 * t_c2 * x_c2 ** 2 * y_c2 * t_c3 * y_c3 ** 3 - 1.314e22 * t_c2 * x_c2 ** 3 * t_c3 * y_c3 ** 3 + 1.025e22 * t_c2 * x_c2 ** 2 * t_c3 * y_c3 ** 3 + 3.444e22 * t_c1 * y_c1 ** 3 * t_c3 * y_c3 ** 3 + 2.562e22 * t_c1 * x_c1 * y_c1 ** 2 * t_c3 * y_c3 ** 3 + 3.444e22 *\n",
    "    t_c1 * x_c1 ** 2 * y_c1 * t_c3 * y_c3 ** 3 + 2.562e22 * t_c1 * x_c1 ** 3 * t_c3 * y_c3 ** 3 + 5.691e23 * t_c3 ** 2 * x_c3 ** 4 * y_c3 ** 2 + 3.779e19 * t_c3 * x_c3 * y_c3 ** 2 + 1.314e22 * t_c2 * y_c2 ** 3 * t_c3 * x_c3 * y_c3 ** 2 + 2.742e23 * t_c2 * x_c2 * y_c2 ** 2 * t_c3 * x_c3 * y_c3 ** 2 + 1.377e22 * t_c2 * y_c2 ** 2 * t_c3 * x_c3 *\n",
    "    y_c3 ** 2 + 1.314e22 * t_c2 * x_c2 ** 2 * y_c2 * t_c3 * x_c3 * y_c3 ** 2 + 2.742e23 * t_c2 * x_c2 ** 3 * t_c3 * x_c3 * y_c3 ** 2 + 1.377e22 * t_c2 * x_c2 ** 2 * t_c3 * x_c3 * y_c3 ** 2 - 2.562e22 * t_c1 * y_c1 ** 3 * t_c3 * x_c3 * y_c3 ** 2 + 3.444e22 * t_c1 * x_c1 * y_c1 ** 2 * t_c3 * x_c3 * y_c3 ** 2 - 2.562e22 * t_c1 * x_c1 ** 2 *\n",
    "    y_c1 * t_c3 * x_c3 * y_c3 ** 2 + 3.444e22 * t_c1 * x_c1 ** 3 * t_c3 * x_c3 * y_c3 ** 2 + 7.785e6 * t_c3 ** 2 * x_c3 ** 5 * y_c3 + 1.392e18 * t_c3 * x_c3 ** 2 * y_c3 + 2.742e23 * t_c2 * y_c2 ** 3 * t_c3 * x_c3 ** 2 * y_c3 - 1.314e22 * t_c2 * x_c2 * y_c2 ** 2 * t_c3 * x_c3 ** 2 * y_c3 + 1.025e22 * t_c2 * y_c2 ** 2 * t_c3 * x_c3 ** 2 * y_c3\n",
    "    + 2.742e23 * t_c2 * x_c2 ** 2 * y_c2 * t_c3 * x_c3 ** 2 * y_c3 - 1.314e22 * t_c2 * x_c2 ** 3 * t_c3 * x_c3 ** 2 * y_c3 + 1.025e22 * t_c2 * x_c2 ** 2 * t_c3 * x_c3 ** 2 * y_c3 + 3.444e22 * t_c1 * y_c1 ** 3 * t_c3 * x_c3 ** 2 * y_c3 + 2.562e22 * t_c1 * x_c1 * y_c1 ** 2 * t_c3 * x_c3 ** 2 * y_c3 + 3.444e22 * t_c1 * x_c1 ** 2 * y_c1 *\n",
    "    t_c3 * x_c3 ** 2 * y_c3 + 2.562e22 * t_c1 * x_c1 ** 3 * t_c3 * x_c3 ** 2 * y_c3 + 1.897e23 * t_c3 ** 2 * x_c3 ** 6 + 3.779e19 * t_c3 * x_c3 ** 3 + 1.314e22 * t_c2 * y_c2 ** 3 * t_c3 * x_c3 ** 3 + 2.742e23 * t_c2 * x_c2 * y_c2 ** 2 * t_c3 * x_c3 ** 3 + 1.377e22 * t_c2 * y_c2 ** 2 * t_c3 * x_c3 ** 3 + 1.314e22 * t_c2 * x_c2 ** 2 *\n",
    "    y_c2 * t_c3 * x_c3 ** 3 + 2.742e23 * t_c2 * x_c2 ** 3 * t_c3 * x_c3 ** 3 + 1.377e22 * t_c2 * x_c2 ** 2 * t_c3 * x_c3 ** 3 - 2.562e22 * t_c1 * y_c1 ** 3 * t_c3 * x_c3 ** 3 + 3.444e22 * t_c1 * x_c1 * y_c1 ** 2 * t_c3 * x_c3 ** 3 - 2.562e22 * t_c1 * x_c1 ** 2 * y_c1 * t_c3 * x_c3 ** 3 + 3.444e22 * t_c1 * x_c1 ** 3 * t_c3 * x_c3 ** 3 +\n",
    "    1.115e23 * t_c2 ** 2 * y_c2 ** 6 - 8.982e6 * t_c2 ** 2 * x_c2 * y_c2 ** 5 + 7.882e21 * t_c2 ** 2 * y_c2 ** 5 + 3.346e23 * t_c2 ** 2 * x_c2 ** 2 * y_c2 ** 4 - 9.482e21 * t_c2 ** 2 * x_c2 * y_c2 ** 4 + 7.83e21 * t_c2 ** 2 * y_c2 ** 4 - 1.796e7 * t_c2 ** 2 * x_c2 ** 3 * y_c2 ** 3 + 1.576e22 * t_c2 ** 2 * x_c2 ** 2 * y_c2 ** 3 + 2.315e18 * t_c2 * y_c2 ** 3\n",
    "    - 2.371e22 * t_c1 * y_c1 ** 3 * t_c2 * y_c2 ** 3 + 1.97e22 * t_c1 * x_c1 * y_c1 ** 2 * t_c2 * y_c2 ** 3 - 2.371e22 * t_c1 * x_c1 ** 2 * y_c1 * t_c2 * y_c2 ** 3 + 1.97e22 * t_c1 * x_c1 ** 3 * t_c2 * y_c2 ** 3 + 3.346e23 * t_c2 ** 2 * x_c2 ** 4 * y_c2 ** 2 - 1.896e22 * t_c2 ** 2 * x_c2 ** 3 * y_c2 ** 2 + 1.566e22 * t_c2 ** 2 * x_c2 ** 2 * y_c2 ** 2 +\n",
    "    2.467e19 * t_c2 * x_c2 * y_c2 ** 2 - 1.97e22 * t_c1 * y_c1 ** 3 * t_c2 * x_c2 * y_c2 ** 2 - 2.371e22 * t_c1 * x_c1 * y_c1 ** 2 * t_c2 * x_c2 * y_c2 ** 2 - 1.97e22 * t_c1 * x_c1 ** 2 * y_c1 * t_c2 * x_c2 * y_c2 ** 2 - 2.371e22 * t_c1 * x_c1 ** 3 * t_c2 * x_c2 * y_c2 ** 2 + 3.432e18 * t_c2 * y_c2 ** 2 + 1.12e6 * t_c1 * y_c1 ** 3 *\n",
    "    t_c2 * y_c2 ** 2 + 3.915e22 * t_c1 * x_c1 * y_c1 ** 2 * t_c2 * y_c2 ** 2 + 1.12e6 * t_c1 * x_c1 ** 2 * y_c1 * t_c2 * y_c2 ** 2 + 3.915e22 * t_c1 * x_c1 ** 3 * t_c2 * y_c2 ** 2 - 8.982e6 * t_c2 ** 2 * x_c2 ** 5 * y_c2 + 7.882e21 * t_c2 ** 2 * x_c2 ** 4 * y_c2 + 2.315e18 * t_c2 * x_c2 ** 2 * y_c2 - 2.371e22 * t_c1 * y_c1 ** 3 * t_c2 *\n",
    "    x_c2 ** 2 * y_c2 + 1.97e22 * t_c1 * x_c1 * y_c1 ** 2 * t_c2 * x_c2 ** 2 * y_c2 - 2.371e22 * t_c1 * x_c1 ** 2 * y_c1 * t_c2 * x_c2 ** 2 * y_c2 + 1.97e22 * t_c1 * x_c1 ** 3 * t_c2 * x_c2 ** 2 * y_c2 + 1.115e23 * t_c2 ** 2 * x_c2 ** 6 - 9.482e21 * t_c2 ** 2 * x_c2 ** 5 + 7.83e21 * t_c2 ** 2 * x_c2 ** 4 + 2.467e19 * t_c2 * x_c2 ** 3 -\n",
    "    1.97e22 * t_c1 * y_c1 ** 3 * t_c2 * x_c2 ** 3 - 2.371e22 * t_c1 * x_c1 * y_c1 ** 2 * t_c2 * x_c2 ** 3 - 1.97e22 * t_c1 * x_c1 ** 2 * y_c1 * t_c2 * x_c2 ** 3 - 2.371e22 * t_c1 * x_c1 ** 3 * t_c2 * x_c2 ** 3 + 3.432e18 * t_c2 * x_c2 ** 2 + 1.12e6 * t_c1 * y_c1 ** 3 * t_c2 * x_c2 ** 2 + 3.915e22 * t_c1 * x_c1 * y_c1 ** 2 * t_c2 * x_c2 ** 2 +\n",
    "    1.12e6 * t_c1 * x_c1 ** 2 * y_c1 * t_c2 * x_c2 ** 2 + 3.915e22 * t_c1 * x_c1 ** 3 * t_c2 * x_c2 ** 2 + 4.894e22 * t_c1 ** 2 * y_c1 ** 6 + 7.438e6 * t_c1 ** 2 * x_c1 * y_c1 ** 5 + 1.468e23 * t_c1 ** 2 * x_c1 ** 2 * y_c1 ** 4 + 1.488e7 * t_c1 ** 2 * x_c1 ** 3 * y_c1 ** 3 - 2.425e18 * t_c1 * y_c1 ** 3 + 1.468e23 * t_c1 ** 2 * x_c1 ** 4 * y_c1 ** 2 +\n",
    "    8.581e18 * t_c1 * x_c1 * y_c1 ** 2 + 7.438e6 * t_c1 ** 2 * x_c1 ** 5 * y_c1 - 2.425e18 * t_c1 * x_c1 ** 2 * y_c1 + 4.894e22 * t_c1 ** 2 * x_c1 ** 6 + 8.581e18 * t_c1 * x_c1 ** 3 + 2.022e15)"
   ]
  },
  {
   "cell_type": "code",
   "execution_count": 60,
   "metadata": {},
   "outputs": [],
   "source": [
    "def ShM1(x_c1,x_c2,x_c3,y_c1,y_c2,y_c3,t_c1,t_c2,t_c3):\n",
    "    return 2.8e-53*np.sqrt(5.375e113*t_c3**2*y_c3**8-4.348e113*t_c3**2*y_c3**7+1.0e0*(2.15e114*t_c3**2*x_c3**2+2.099e113*t_c3**2*x_c3+9.452e112*t_c3**2)*y_c3**6+1.0e0*\n",
    "(-1.304e114*t_c3**2*x_c3**2-6.386e112*t_c3**2*x_c3)*y_c3**5+1.0e0*(3.225e114*t_c3**2*x_c3**4+6.297e113*t_c3**2*x_c3**3+2.48e113*t_c3**2*x_c3**2+1.0e0*(8.006e113*t_c2*y_c2**4-1.029e113*t_c2*y_c2**3+1.0e0*\n",
    "(1.601e114*t_c2*x_c2**2+7.592e112*t_c2*x_c2-3.816e102*t_c2)*y_c2**2-1.029e113*t_c2*x_c2**2*y_c2+8.006e113*t_c2*x_c2**4+7.592e112*t_c2*x_c2**3-3.816e102*t_c2*x_c2**2-3.578e103*t_c1*y_c1**4-\n",
    "7.156e103*t_c1*x_c1**2*y_c1**2-3.578e103*t_c1*x_c1**4+4.578e109)*t_c3)*y_c3**4+1.0e0*(-1.304e114*t_c3**2*x_c3**4-1.277e113*t_c3**2*x_c3**3+1.0e0*(-3.173e113*t_c2*y_c2**4+4.913e112*t_c2*y_c2**3+\n",
    "1.0e0*(-6.346e113*t_c2*x_c2**2-1.79e112*t_c2*x_c2+2.201e102*t_c2)*y_c2**2+4.913e112*t_c2*x_c2**2*y_c2-3.173e113*t_c2*x_c2**4-1.79e112*t_c2*x_c2**3+2.201e102*t_c2*x_c2**2+2.064e103*t_c1*\n",
    "y_c1**4+4.127e103*t_c1*x_c1**2*y_c1**2+2.064e103*t_c1*x_c1**4-1.66e109)*t_c3)*y_c3**3+1.0e0*(2.15e114*t_c3**2*x_c3**6+6.297e113*t_c3**2*x_c3**5+2.125e113*t_c3**2*x_c3**4+1.0e0*(1.601e114*t_c2*y_c2**4-\n",
    "2.057e113*t_c2*y_c2**3+1.0e0*(3.202e114*t_c2*x_c2**2+1.518e113*t_c2*x_c2-7.633e102*t_c2)*y_c2**2-2.057e113*t_c2*x_c2**2*y_c2+1.601e114*t_c2*x_c2**4+1.518e113*t_c2*x_c2**3-7.633e102*t_c2*\n",
    "x_c2**2-7.156e103*t_c1*y_c1**4-1.431e104*t_c1*x_c1**2*y_c1**2-7.156e103*t_c1*x_c1**4+9.155e109)*t_c3*x_c3**2+1.0e0*(2.031e113*t_c2*y_c2**4-3.055e112*t_c2*y_c2**3+1.0e0*\n",
    "(4.062e113*t_c2*x_c2**2+4.972e112*t_c2*x_c2-3.395e101*t_c2)*y_c2**2-3.055e112*t_c2*x_c2**2*y_c2+2.031e113*t_c2*x_c2**4+4.972e112*t_c2*x_c2**3-3.395e101*t_c2*x_c2**2-3.183e102*t_c1*y_c1**4-\n",
    "6.366e102*t_c1*x_c1**2*y_c1**2-3.183e102*t_c1*x_c1**4+1.569e109)*t_c3*x_c3)*y_c3**2+1.0e0*(-4.348e113*t_c3**2*x_c3**6-6.386e112*t_c3**2*x_c3**5+1.0e0*(-3.173e113*t_c2*y_c2**4+4.913e112*t_c2*y_c2**3+\n",
    "1.0e0*(-6.346e113*t_c2*x_c2**2-1.79e112*t_c2*x_c2+2.201e102*t_c2)*y_c2**2+4.913e112*t_c2*x_c2**2*y_c2-3.173e113*t_c2*x_c2**4-1.79e112*t_c2*x_c2**3+2.201e102*t_c2*x_c2**2+2.064e103*t_c1*\n",
    "y_c1**4+4.127e103*t_c1*x_c1**2*y_c1**2+2.064e103*t_c1*x_c1**4-1.66e109)*t_c3*x_c3**2)*y_c3+5.375e113*t_c3**2*x_c3**8+2.099e113*t_c3**2*x_c3**7+5.898e112*t_c3**2*x_c3**6+1.0e0*(8.006e113*t_c2*y_c2**4-\n",
    "1.029e113*t_c2*y_c2**3+1.0e0*(1.601e114*t_c2*x_c2**2+7.592e112*t_c2*x_c2-3.816e102*t_c2)*y_c2**2-1.029e113*t_c2*x_c2**2*y_c2+8.006e113*t_c2*x_c2**4+7.592e112*t_c2*x_c2**3-3.816e102*t_c2*\n",
    "x_c2**2-3.578e103*t_c1*y_c1**4-7.156e103*t_c1*x_c1**2*y_c1**2-3.578e103*t_c1*x_c1**4+4.578e109)*t_c3*x_c3**4+1.0e0*(2.031e113*t_c2*y_c2**4-3.055e112*t_c2*y_c2**3+1.0e0*\n",
    "(4.062e113*t_c2*x_c2**2+4.972e112*t_c2*x_c2-3.395e101*t_c2)*y_c2**2-3.055e112*t_c2*x_c2**2*y_c2+2.031e113*t_c2*x_c2**4+4.972e112*t_c2*x_c2**3-3.395e101*t_c2*x_c2**2-3.183e102*t_c1*y_c1**4-\n",
    "6.366e102*t_c1*x_c1**2*y_c1**2-3.183e102*t_c1*x_c1**4+1.569e109)*t_c3*x_c3**3+3.48e113*t_c2**2*y_c2**8-9.982e112*t_c2**2*y_c2**7+1.0e0*(1.392e114*t_c2**2*x_c2**2+4.06e112*t_c2**2*x_c2+1.84e112*t_c2**2)*y_c2**6\n",
    "+1.0e0*(-2.994e113*t_c2**2*x_c2**2-3.244e111*t_c2**2*x_c2+1.102e102*t_c2**2)*y_c2**5+1.0e0*(2.088e114*t_c2**2*x_c2**4+1.218e113*t_c2**2*x_c2**3+5.705e112*t_c2**2*x_c2**2+1.39e102*t_c2**2*x_c2+1.401e92*\n",
    "t_c2**2+1.0e0*(-5.095e103*t_c1*y_c1**4-1.019e104*t_c1*x_c1**2*y_c1**2-5.095e103*t_c1*x_c1**4+3.737e109)*t_c2)*y_c2**4+1.0e0*\n",
    "(-2.994e113*t_c2**2*x_c2**4-6.488e111*t_c2**2*x_c2**3+2.204e102*t_c2**2*x_c2**2+1.0e0*(1.033e103*t_c1*y_c1**4+2.066e103*t_c1*x_c1**2*y_c1**2+1.033e103*t_c1*x_c1**4-5.104e108)*t_c2)*y_c2**3+1.0e0*(\n",
    "1.392e114*t_c2**2*x_c2**6+1.218e113*t_c2**2*x_c2**5+5.89e112*t_c2**2*x_c2**4+2.781e102*t_c2**2*x_c2**3+1.0e0*\n",
    "(2.801e92*t_c2**2+1.0e0*(-1.019e104*t_c1*y_c1**4-2.038e104*t_c1*x_c1**2*y_c1**2-1.019e104*t_c1*x_c1**4+7.475e109)*t_c2)*x_c2**2+1.0e0*\n",
    "(1.303e103*t_c1*y_c1**4+2.607e103*t_c1*x_c1**2*y_c1**2+1.303e103*t_c1*x_c1**4+6.72e108)*t_c2*x_c2+1.0e0*(2.626e93*t_c1*y_c1**4+5.252e93*t_c1*x_c1**2*y_c1**2+2.626e93*t_c1*x_c1**4-9.434e97)*t_c2)*\n",
    "y_c2**2+1.0e0*(-9.982e112*t_c2**2*x_c2**6-3.244e111*t_c2**2*x_c2**5+1.102e102*t_c2**2*x_c2**4+1.0e0*(1.033e103*t_c1*y_c1**4+2.066e103*t_c1*x_c1**2*y_c1**2+1.033e103*t_c1*x_c1**4-5.104e108)*t_c2*x_c2**2)*\n",
    "y_c2+3.48e113*t_c2**2*x_c2**8+4.06e112*t_c2**2*x_c2**7+2.025e112*t_c2**2*x_c2**6+1.39e102*t_c2**2*x_c2**5+1.0e0*\n",
    "(1.401e92*t_c2**2+1.0e0*(-5.095e103*t_c1*y_c1**4-1.019e104*t_c1*x_c1**2*y_c1**2-5.095e103*t_c1*x_c1**4+3.737e109)*t_c2)*x_c2**4+1.0e0*\n",
    "(1.303e103*t_c1*y_c1**4+2.607e103*t_c1*x_c1**2*y_c1**2+1.303e103*t_c1*x_c1**4+6.72e108)*t_c2*x_c2**3+1.0e0*(2.626e93*t_c1*y_c1**4+5.252e93*t_c1*x_c1**2*y_c1**2+2.626e93*t_c1*x_c1**4-9.434e97)*t_c2*\n",
    "x_c2**2+1.231e94*t_c1**2*y_c1**8+4.924e94*t_c1**2*x_c1**2*y_c1**6+1.0e0*(7.386e94*t_c1**2*x_c1**4-8.845e98*t_c1)*y_c1**4+1.0e0*(4.924e94*t_c1**2*x_c1**6-1.769e99*t_c1*x_c1**2)*y_c1**2+1.231e94*t_c1**2*x_c1**8-\n",
    "8.845e98*t_c1*x_c1**4+1.275e105)"
   ]
  },
  {
   "cell_type": "code",
   "execution_count": 61,
   "metadata": {},
   "outputs": [],
   "source": [
    "def f(X, alpha):\n",
    "\n",
    "    y = alpha * ShM1(X[0],X[3],X[6],X[1],X[4],X[7],X[2],X[5],X[8])\n",
    "    x = (1-alpha) * ShF2(X[0],X[3],X[6],X[1],X[4],X[7],X[2],X[5],X[8])\n",
    "    point1 = np.array((x, y))\n",
    "    point2 = np.array((0, 0))\n",
    "    return np.linalg.norm(point1 - point2)"
   ]
  },
  {
   "cell_type": "markdown",
   "metadata": {},
   "source": [
    "# Plot Solutions"
   ]
  },
  {
   "cell_type": "code",
   "execution_count": 62,
   "metadata": {},
   "outputs": [],
   "source": [
    "x = []\n",
    "y = []\n",
    "alpha = [0.5]\n",
    "\n",
    "def plot(X):\n",
    "    global x\n",
    "    global y\n",
    "    \n",
    "    M = ShM1(X[0],X[3],X[6],X[1],X[4],X[7],X[2],X[5],X[8])\n",
    "    F = ShF2(X[0],X[3],X[6],X[1],X[4],X[7],X[2],X[5],X[8])\n",
    "\n",
    "    clear_output(wait=True)\n",
    "    print(\"ShM:\",M,\"ShF\",F)\n",
    "    print(f(X, 0.5))\n",
    "    x.append(M)\n",
    "    y.append(F)\n",
    "    plt.scatter(x,y,\n",
    "         marker='o')\n",
    "    #plt.xlim(0,1)\n",
    "    #plt.ylim(0,1)\n",
    "    plt.xlabel('ShF')\n",
    "    plt.ylabel('ShM')\n",
    "    plt.title('Mechanism optimization')\n",
    "    plt.show()"
   ]
  },
  {
   "cell_type": "markdown",
   "metadata": {},
   "source": [
    "## Differential evolution"
   ]
  },
  {
   "cell_type": "code",
   "execution_count": 63,
   "metadata": {},
   "outputs": [],
   "source": [
    "bounds = [[-0.4, 0.4],\n",
    "          [-0.4, 0.4],\n",
    "        [0.005, 0.04],\n",
    "        [-0.4, 0.4],\n",
    "        [-0.4, 0.4],\n",
    "        [0.005, 0.04],\n",
    "        [-0.4, 0.4],\n",
    "        [-0.4, 0.4],\n",
    "        [0.005, 0.04]]"
   ]
  },
  {
   "cell_type": "code",
   "execution_count": 64,
   "metadata": {},
   "outputs": [
    {
     "data": {
      "image/png": "[encoded data removed]",
      "text/plain": [
       "<Figure size 432x288 with 1 Axes>"
      ]
     },
     "metadata": {
      "needs_background": "light"
     },
     "output_type": "display_data"
    },
    {
     "name": "stdout",
     "output_type": "stream",
     "text": [
      "(array([-0.20920255, -0.03223784,  0.02476399, -0.02175433, -0.10231855,\n",
      "        0.03826494, -0.12117151,  0.0753223 ,  0.03986508]), 200, 0.2721678759659302, 402000)\n",
      "Best values:\n",
      " ShF:0.28464813639309466 \n",
      " ShM:0.4639793629884437\n"
     ]
    }
   ],
   "source": [
    "from differential_evolution import differential_evolution\n",
    "res = differential_evolution(f, plot, 200, bounds, args = ((alpha)), popsize = 100, Cr = .7, rep=20)\n",
    "X = res[0]\n",
    "M = ShM1(X[0],X[3],X[6],X[1],X[4],X[7],X[2],X[5],X[8])\n",
    "F = ShF2(X[0],X[3],X[6],X[1],X[4],X[7],X[2],X[5],X[8])\n",
    "\n",
    "clear_output(wait=True)\n",
    "plt.plot(x, y, 'o')\n",
    "plt.plot(M, F, 'o',color='red')\n",
    "plt.xlabel('ShF')\n",
    "plt.ylabel('ShM')\n",
    "plt.title('Mechanism optimization')\n",
    "plt.show()\n",
    "print(res)\n",
    "print(f\"Best values:\\n ShF:{F} \\n ShM:{M}\")\n"
   ]
  }
 ],
 "metadata": {
  "kernelspec": {
   "display_name": "Python 3.9.12 ('base')",
   "language": "python",
   "name": "python3"
  },
  "language_info": {
   "codemirror_mode": {
    "name": "ipython",
    "version": 3
   },
   "file_extension": ".py",
   "mimetype": "text/x-python",
   "name": "python",
   "nbconvert_exporter": "python",
   "pygments_lexer": "ipython3",
   "version": "3.9.12"
  },
  "orig_nbformat": 4,
  "vscode": {
   "interpreter": {
    "hash": "75452d903801b36f815cbe0b287f467b902c6d3dd867d618adaca35749f005bd"
   }
  }
 },
 "nbformat": 4,
 "nbformat_minor": 2
}
