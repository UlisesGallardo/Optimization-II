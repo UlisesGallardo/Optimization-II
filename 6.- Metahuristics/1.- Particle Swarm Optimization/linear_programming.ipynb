{
 "cells": [
  {
   "cell_type": "markdown",
   "metadata": {},
   "source": [
    "# Team"
   ]
  },
  {
   "cell_type": "markdown",
   "metadata": {},
   "source": [
    "0228903 Juan Pablo Enríquez Pedroza\n",
    "\n",
    "0229261 Ulises Gallardo Rodríguez"
   ]
  },
  {
   "cell_type": "markdown",
   "metadata": {},
   "source": [
    "# PSO"
   ]
  },
  {
   "cell_type": "code",
   "execution_count": 43,
   "metadata": {},
   "outputs": [],
   "source": [
    "from scipy.optimize import linprog\n",
    "import numpy as np\n",
    "np.set_printoptions(suppress=True)\n",
    "\n",
    "from PSO import particle_swarm_optimization"
   ]
  },
  {
   "cell_type": "code",
   "execution_count": 44,
   "metadata": {},
   "outputs": [],
   "source": [
    "def linear_f(X, A,b,c, bounds):\n",
    "    Valid_Solution = True\n",
    "    \n",
    "    for bound in bounds:\n",
    "        for value in X:\n",
    "            if bound[0]!=None:\n",
    "                if value<bound[0]: Valid_Solution = False\n",
    "            if bound[1]!=None:\n",
    "                if value>bound[1]: Valid_Solution = False\n",
    "    \n",
    "    for i in range(len(A)):\n",
    "        res = 0\n",
    "        for j in range(len(A[0])):\n",
    "            res+=A[i][j] * X[j]\n",
    "        if not(res <= b[i]):\n",
    "             Valid_Solution = False\n",
    "        \n",
    "    if Valid_Solution:\n",
    "        sum = 0\n",
    "        for i, val in enumerate(X):\n",
    "            sum+=c[i]*val\n",
    "        return sum\n",
    "    else:\n",
    "        return 1000000"
   ]
  },
  {
   "cell_type": "markdown",
   "metadata": {},
   "source": [
    "### Problem 1\n",
    "$$ Max 20000p + 15000m $$\n",
    "$$ S.A. $$\n",
    "$$ p + 2m <= 80 $$\n",
    "$$ 3p + 2m <= 120 $$\n",
    "$$ p,m >= 0 $$"
   ]
  },
  {
   "cell_type": "code",
   "execution_count": 45,
   "metadata": {},
   "outputs": [
    {
     "name": "stdout",
     "output_type": "stream",
     "text": [
      "     con: array([], dtype=float64)\n",
      "     fun: -849999.9999227368\n",
      " message: 'Optimization terminated successfully.'\n",
      "     nit: 7\n",
      "   slack: array([0.00000001, 0.00000001])\n",
      "  status: 0\n",
      " success: True\n",
      "       x: array([20., 30.])\n",
      "rep:  1 / 1\n",
      "\n",
      "Own implementation:\n",
      " (array([20.02221097, 29.95892859]), 100, -849828.1482561682, 10100)\n"
     ]
    }
   ],
   "source": [
    "A = [[1,2],\n",
    "     [3,2]]\n",
    "b = [ 80,\n",
    "     120]\n",
    "bounds = [[0,None],\n",
    "          [0,None]]\n",
    "c = [-20000,-15000]\n",
    "\n",
    "print(linprog(c, A_ub=A, b_ub=b, A_eq=None, b_eq=None,bounds=bounds))\n",
    "print(\"\\nOwn implementation:\\n\",particle_swarm_optimization(linear_f,100,bounds,args=((A,b,c,bounds)), N = 100))"
   ]
  },
  {
   "cell_type": "markdown",
   "metadata": {},
   "source": [
    "![alternative text](1.jpg)"
   ]
  },
  {
   "cell_type": "markdown",
   "metadata": {},
   "source": [
    "### Problem 2\n",
    "$$ Max  20L1 + 10L2 $$\n",
    "$$ S.A. $$\n",
    "$$ 20L1 + 30L2 <= 6000 $$\n",
    "$$ 10L1 + 10L2 <= 4800 $$\n",
    "$$ L1,L2 >= 0 $$"
   ]
  },
  {
   "cell_type": "code",
   "execution_count": 46,
   "metadata": {},
   "outputs": [
    {
     "name": "stdout",
     "output_type": "stream",
     "text": [
      "     con: array([], dtype=float64)\n",
      "     fun: -5999.999344195026\n",
      " message: 'Optimization terminated successfully.'\n",
      "     nit: 5\n",
      "   slack: array([   0.00061665, 1800.00031811])\n",
      "  status: 0\n",
      " success: True\n",
      "       x: array([299.99996623,   0.00000196])\n",
      "rep:  1 / 1\n",
      "\n",
      "Own implementation:\n",
      " (array([299.99999962,   0.00000014]), 100, -5999.999993818899, 10100)\n"
     ]
    }
   ],
   "source": [
    "A = [[20,30],\n",
    "     [10,10]]\n",
    "b = [6000,\n",
    "     4800]\n",
    "bounds = [[0,None],\n",
    "          [0,None]]\n",
    "c = [-20,-10]\n",
    "\n",
    "print(linprog(c, A_ub=A, b_ub=b, A_eq=None, b_eq=None,bounds=bounds))\n",
    "print(\"\\nOwn implementation:\\n\",particle_swarm_optimization(linear_f,100,bounds,args=((A,b,c,bounds)), N = 100))"
   ]
  },
  {
   "cell_type": "markdown",
   "metadata": {},
   "source": [
    "![alternative text](2.jpg)"
   ]
  },
  {
   "cell_type": "markdown",
   "metadata": {},
   "source": [
    "### Problem 3\n",
    "$$ Min  10X + 30Y $$\n",
    "$$ S.A. $$\n",
    "$$ X + 5Y >= 15 $$\n",
    "$$ 5X + Y >= 15 $$\n",
    "$$ X,Y > 0 $$"
   ]
  },
  {
   "cell_type": "code",
   "execution_count": 47,
   "metadata": {},
   "outputs": [
    {
     "name": "stdout",
     "output_type": "stream",
     "text": [
      "     con: array([], dtype=float64)\n",
      "     fun: 99.9999999995525\n",
      " message: 'Optimization terminated successfully.'\n",
      "     nit: 4\n",
      "   slack: array([-0., -0.])\n",
      "  status: 0\n",
      " success: True\n",
      "       x: array([2.5, 2.5])\n",
      "rep:  1 / 1\n",
      "\n",
      "Own implementation:\n",
      " (array([2.50005521, 2.49999683]), 100, 100.00045687848038, 10100)\n"
     ]
    }
   ],
   "source": [
    "A = [[-1,-5],\n",
    "     [-5,-1]]\n",
    "b = [-15,\n",
    "     -15]\n",
    "bounds = [[1,None],\n",
    "          [1,None]]\n",
    "c = [10,30]\n",
    "\n",
    "\n",
    "print(linprog(c, A_ub=A, b_ub=b, A_eq=None, b_eq=None,bounds=bounds))\n",
    "print(\"\\nOwn implementation:\\n\",particle_swarm_optimization(linear_f,100,bounds,args=((A,b,c,bounds)), N = 100))"
   ]
  },
  {
   "cell_type": "markdown",
   "metadata": {},
   "source": [
    "![alternative text](3.jpg)"
   ]
  },
  {
   "cell_type": "markdown",
   "metadata": {},
   "source": [
    "### Problem 4\n",
    "$$ Max  6.5X + 7Y $$\n",
    "$$ S.A. $$\n",
    "$$ 2X + 3Y <= 600 $$\n",
    "$$ X + Y <= 500 $$\n",
    "$$ 2X + Y <= 400 $$\n",
    "$$ X,Y >= 0 $$"
   ]
  },
  {
   "cell_type": "code",
   "execution_count": 48,
   "metadata": {},
   "outputs": [
    {
     "name": "stdout",
     "output_type": "stream",
     "text": [
      "     con: array([], dtype=float64)\n",
      "     fun: -1674.9999979637923\n",
      " message: 'Optimization terminated successfully.'\n",
      "     nit: 5\n",
      "   slack: array([  0.00000073, 250.0000003 ,   0.00000049])\n",
      "  status: 0\n",
      " success: True\n",
      "       x: array([149.99999981,  99.99999988])\n",
      "rep:  1 / 1\n",
      "\n",
      "Own implementation:\n",
      " (array([149.99989466,  99.99987781]), 100, -1674.9984599853956, 10100)\n"
     ]
    }
   ],
   "source": [
    "A = [[2,3],\n",
    "     [1,1],\n",
    "     [2,1]]\n",
    "b = [600,\n",
    "     500,\n",
    "     400]\n",
    "bounds = [[0,None],\n",
    "          [0,None]]\n",
    "c = [-6.5,-7]\n",
    "\n",
    "print(linprog(c, A_ub=A, b_ub=b, A_eq=None, b_eq=None,bounds=bounds))\n",
    "print(\"\\nOwn implementation:\\n\",particle_swarm_optimization(linear_f,100,bounds,args=((A,b,c,bounds)), N = 100))"
   ]
  },
  {
   "cell_type": "markdown",
   "metadata": {},
   "source": [
    "![alternative text](4.jpg)\n"
   ]
  },
  {
   "cell_type": "markdown",
   "metadata": {},
   "source": [
    "### Problem 5\n",
    "$$ Min  800G + 600P $$\n",
    "$$ S.A. $$\n",
    "$$ 50G + 40P <= 400 $$\n",
    "$$ P + G <= 9 $$\n",
    "$$ 0<=X,Y <= 8 $$"
   ]
  },
  {
   "cell_type": "code",
   "execution_count": 49,
   "metadata": {},
   "outputs": [
    {
     "name": "stdout",
     "output_type": "stream",
     "text": [
      "     con: array([], dtype=float64)\n",
      "     fun: 6199.999985825726\n",
      " message: 'Optimization terminated successfully.'\n",
      "     nit: 6\n",
      "   slack: array([-0.00000087,  0.00000002])\n",
      "  status: 0\n",
      " success: True\n",
      "       x: array([3.99999998, 5.00000001])\n",
      "rep:  1 / 1\n",
      "\n",
      "Own implementation:\n",
      " (array([4., 5.]), 200, 6200.000000000004, 30150)\n"
     ]
    }
   ],
   "source": [
    "A = [[-50,-40],\n",
    "     [1,1]]\n",
    "b = [-400,\n",
    "     9]\n",
    "bounds = [[1,9],\n",
    "          [1,8]]\n",
    "c = [800,600]\n",
    "\n",
    "print(linprog(c, A_ub=A, b_ub=b, A_eq=None, b_eq=None,bounds=bounds))\n",
    "print(\"\\nOwn implementation:\\n\",particle_swarm_optimization(linear_f,200,bounds,args=((A,b,c,bounds)), N = 150))"
   ]
  },
  {
   "cell_type": "markdown",
   "metadata": {},
   "source": [
    "![alternative text](5.jpg)"
   ]
  }
 ],
 "metadata": {
  "kernelspec": {
   "display_name": "Python 3.9.12 ('base')",
   "language": "python",
   "name": "python3"
  },
  "language_info": {
   "codemirror_mode": {
    "name": "ipython",
    "version": 3
   },
   "file_extension": ".py",
   "mimetype": "text/x-python",
   "name": "python",
   "nbconvert_exporter": "python",
   "pygments_lexer": "ipython3",
   "version": "3.9.12"
  },
  "vscode": {
   "interpreter": {
    "hash": "75452d903801b36f815cbe0b287f467b902c6d3dd867d618adaca35749f005bd"
   }
  }
 },
 "nbformat": 4,
 "nbformat_minor": 4
}
