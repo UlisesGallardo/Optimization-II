{
  "cells": [
    {
      "cell_type": "markdown",
      "metadata": {},
      "source": [
        "Authors:\n",
        "\n",
        "Juan Pablo Enríquez Pedroza 0228903\n",
        "\n",
        "Ulises Gallardo Rodríguez   0229261"
      ]
    },
    {
      "cell_type": "markdown",
      "metadata": {},
      "source": [
        "## Functions"
      ]
    },
    {
      "cell_type": "code",
      "execution_count": 109,
      "metadata": {
        "id": "-xRnxYEuwYjq"
      },
      "outputs": [],
      "source": [
        "import pandas as pd\n",
        "import numpy as np\n",
        "from matplotlib import pyplot as plt\n",
        "import random"
      ]
    },
    {
      "cell_type": "code",
      "execution_count": 110,
      "metadata": {},
      "outputs": [],
      "source": [
        "calls = 0 #Total calls of objetive function"
      ]
    },
    {
      "cell_type": "code",
      "execution_count": 111,
      "metadata": {
        "id": "6bQTS_Fb0Dov"
      },
      "outputs": [],
      "source": [
        "def get_population(n,board_size = 8):\n",
        "  population = np.zeros([n, board_size], dtype = \"int32\")\n",
        "\n",
        "  for i in range(n): \n",
        "    population[i] = range(board_size)\n",
        "    for j in range(board_size):\n",
        "      x,y = 0,0\n",
        "      while (x==y):\n",
        "        x = np.random.randint(0,board_size)\n",
        "        y = np.random.randint(0,board_size) \n",
        "      population[i][x], population[i][y] = population[i][y], population[i][x]\n",
        "      \n",
        "  return population"
      ]
    },
    {
      "cell_type": "code",
      "execution_count": 112,
      "metadata": {
        "id": "phM7XAQ_zMo7"
      },
      "outputs": [],
      "source": [
        "def f(board):\n",
        "  global calls\n",
        "  calls+=1\n",
        "  cost = 0\n",
        "  for j in range(len(board)):\n",
        "    for jj in range(j+1,len(board)):\n",
        "      if (board[j] + (jj - j)) == board[jj] or (board[j] - (jj - j)) == board[jj]:\n",
        "        cost += 1\n",
        "\n",
        "  return cost"
      ]
    },
    {
      "cell_type": "code",
      "execution_count": 113,
      "metadata": {
        "id": "hqYjPQynxFe_"
      },
      "outputs": [],
      "source": [
        "def plot_solution(individual, board_size = 8):\n",
        "  chessboard = np.zeros((board_size,board_size))\n",
        "\n",
        "  chessboard[1::2,0::2] = 1\n",
        "  chessboard[0::2,1::2] = 1\n",
        "\n",
        "  plt.imshow(chessboard, cmap='binary')\n",
        "  for i in range(len(individual)):\n",
        "      plt.text( i,individual[i], '♕', fontsize=25, ha='center', va='center', color='black' if (i - individual[i] ) % 2 == 0 else 'white')\n",
        "  plt.show()"
      ]
    },
    {
      "cell_type": "markdown",
      "metadata": {
        "id": "wVWJxnlo_dmW"
      },
      "source": [
        "## Selection"
      ]
    },
    {
      "cell_type": "code",
      "execution_count": 114,
      "metadata": {
        "id": "dr9wfgBI_2zP"
      },
      "outputs": [],
      "source": [
        "def roulette_selection(fitness):\n",
        "  range_probability = np.zeros((len(fitness), 2))\n",
        "  range_probability[0][0]=0\n",
        "  total = np.sum(fitness)\n",
        "\n",
        "  new_total = 0\n",
        "  aux = fitness.copy()\n",
        "  for i in range(len(aux)):\n",
        "    aux[i] = total - fitness[i]\n",
        "    new_total += aux[i]\n",
        "\n",
        "  for i in range(len(aux)):\n",
        "    PN = (aux[i])/new_total\n",
        "    if i>0:\n",
        "      range_probability[i][0] = range_probability[i-1][1]\n",
        "      range_probability[i][1] = range_probability[i-1][1]+PN\n",
        "    else:\n",
        "      range_probability[i][0] = 0\n",
        "      range_probability[i][1] = PN\n",
        "  p = np.random.random() \n",
        "  #print(range_probability)\n",
        "  for i in range(len(range_probability)):\n",
        "    if p >=range_probability[i][0] and p<range_probability[i][1]:\n",
        "      return i\n"
      ]
    },
    {
      "cell_type": "code",
      "execution_count": 115,
      "metadata": {
        "id": "mwsPIapQ_2h-"
      },
      "outputs": [],
      "source": [
        "def tournament_selection(fitness, k = 2):\n",
        "  parents = random.sample(range(0, len(fitness)), k)\n",
        "  winner = np.argmin(fitness[parents])\n",
        "  return(parents[winner])"
      ]
    },
    {
      "cell_type": "markdown",
      "metadata": {
        "id": "ZImr-NjLaC7O"
      },
      "source": [
        "## Mutation"
      ]
    },
    {
      "cell_type": "code",
      "execution_count": 116,
      "metadata": {
        "id": "ZcS9DxY1aFiC"
      },
      "outputs": [],
      "source": [
        "def swap_mutation(individual, Pm): \n",
        "  m = len(individual)\n",
        "  limit = m-1 \n",
        "  x = np.random.randint(1,limit)\n",
        "  y = np.random.randint(1,limit)\n",
        "  individual[x], individual[y] = individual[y], individual[x]\n",
        "  return individual"
      ]
    },
    {
      "cell_type": "code",
      "execution_count": 117,
      "metadata": {
        "id": "aennkfyIa3D-"
      },
      "outputs": [],
      "source": [
        "def mutate(Population, Pm): \n",
        "  \n",
        "  for i in range(len(Population)):\n",
        "    p = np.random.random()\n",
        "    if p < Pm:\n",
        "      Population[i] = swap_mutation(Population[i],Pm)\n",
        "\n",
        "  return Population"
      ]
    },
    {
      "cell_type": "markdown",
      "metadata": {
        "id": "HGX_NttKFAJY"
      },
      "source": [
        "## Crossover"
      ]
    },
    {
      "cell_type": "code",
      "execution_count": 118,
      "metadata": {
        "id": "leuheusIchqF"
      },
      "outputs": [],
      "source": [
        "def simple_permutation_crossover(parentA, parentB):\n",
        "  offspring = np.zeros(parentA.shape, dtype = np.chararray)\n",
        "  offspring[:int(len(parentA)/2)] = parentA[:int(len(parentA)/2)]\n",
        "  offspring[int(len(parentA)/2):] = parentB[int(len(parentA)/2):]\n",
        "  nodes = set(np.unique(parentA))\n",
        "  left = list(set(np.unique(parentA)) - set(np.unique(offspring)))\n",
        "\n",
        "  for i in range(0,offspring.shape[0]):\n",
        "    if not (offspring[i] in nodes):\n",
        "      value = random.choice(left)\n",
        "      left.remove(value)\n",
        "      offspring[i] = value\n",
        "    else:\n",
        "      nodes.remove(offspring[i])\n",
        "      \n",
        "  return offspring"
      ]
    },
    {
      "cell_type": "code",
      "execution_count": 119,
      "metadata": {
        "id": "zDbpbOhKFCMS"
      },
      "outputs": [],
      "source": [
        "def crossover(population,fitness,pop_size, Pr):\n",
        "  offspring = np.zeros(population.shape)\n",
        "\n",
        "  for i in range(offspring.shape[0]):\n",
        "    p = np.random.random()\n",
        "    if p < Pr:\n",
        "      parentA = tournament_selection(fitness)\n",
        "      parentB = tournament_selection(fitness)\n",
        "      offspring[i] = simple_permutation_crossover(population[parentA], population[parentB])\n",
        "    else:\n",
        "      parent = tournament_selection(fitness)\n",
        "      offspring[i] = population[parent]\n",
        "      \n",
        "  return offspring"
      ]
    },
    {
      "cell_type": "markdown",
      "metadata": {
        "id": "dfTgdACi_jFQ"
      },
      "source": [
        "## Algorithm"
      ]
    },
    {
      "cell_type": "code",
      "execution_count": 120,
      "metadata": {
        "id": "6K6Qbxq41STR"
      },
      "outputs": [],
      "source": [
        "def genetic_algorithm(pop_size = 30, G = 100, Pr = 0.8, Pm = 0.3):\n",
        "  population = get_population(pop_size)\n",
        "  fitness = np.zeros(pop_size)\n",
        "  elite = np.zeros(2)\n",
        "  g = 0\n",
        "\n",
        "  for i, individual in enumerate(population):\n",
        "    fitness[i] = f(individual)\n",
        "\n",
        "  elite = [min(fitness), population[np.argmin(fitness)]]\n",
        "\n",
        "  while g < G:\n",
        "    population = crossover(population,fitness,pop_size, Pr)\n",
        "    population = mutate(population,Pm)\n",
        "    \n",
        "    for i, individual in enumerate(population):\n",
        "      fitness[i] = f(individual)\n",
        "   \n",
        "    actual_elite = [min(fitness), population[np.argmin(fitness)]]\n",
        "    \n",
        "    if actual_elite[0] < elite[0]:\n",
        "      elite = actual_elite\n",
        "    else:\n",
        "      population[np.argmin(fitness)] = elite[1]\n",
        "    \n",
        "    g += 1\n",
        "    \n",
        "  print(\"BEST SOLUTION:\")\n",
        "  print(elite[1], \" - \", elite[0])\n",
        "  print(\"TOTAL CALLS TO OBJETIVE FUNCTION: \", calls)\n",
        "  plot_solution(elite[1])\n",
        "  \n"
      ]
    },
    {
      "cell_type": "code",
      "execution_count": 121,
      "metadata": {
        "colab": {
          "base_uri": "https://localhost:8080/",
          "height": 1000
        },
        "id": "13OgMvAfzQL9",
        "outputId": "c731ac83-cffc-4cc8-de8e-d37bee572434"
      },
      "outputs": [
        {
          "name": "stdout",
          "output_type": "stream",
          "text": [
            "BEST SOLUTION:\n",
            "[6. 4. 2. 0. 5. 7. 1. 3.]  -  0.0\n",
            "TOTAL CALLS TO OBJETIVE FUNCTION:  3030\n"
          ]
        },
        {
          "data": {
            "image/png": "[encoded data removed]",
            "text/plain": [
              "<Figure size 432x288 with 1 Axes>"
            ]
          },
          "metadata": {
            "needs_background": "light"
          },
          "output_type": "display_data"
        }
      ],
      "source": [
        "pop_size = 30       #Population size\n",
        "G = 100             #Number of generations\n",
        "Pr = 0.8            #Reproduction probability\n",
        "Pm = 0.3            #Mutation probability\n",
        "genetic_algorithm(pop_size, G, Pr, Pm)"
      ]
    }
  ],
  "metadata": {
    "colab": {
      "collapsed_sections": [],
      "name": "Algoritmo genético",
      "provenance": []
    },
    "kernelspec": {
      "display_name": "Python 3.9.12 ('base')",
      "language": "python",
      "name": "python3"
    },
    "language_info": {
      "codemirror_mode": {
        "name": "ipython",
        "version": 3
      },
      "file_extension": ".py",
      "mimetype": "text/x-python",
      "name": "python",
      "nbconvert_exporter": "python",
      "pygments_lexer": "ipython3",
      "version": "3.9.12"
    },
    "vscode": {
      "interpreter": {
        "hash": "75452d903801b36f815cbe0b287f467b902c6d3dd867d618adaca35749f005bd"
      }
    }
  },
  "nbformat": 4,
  "nbformat_minor": 0
}
