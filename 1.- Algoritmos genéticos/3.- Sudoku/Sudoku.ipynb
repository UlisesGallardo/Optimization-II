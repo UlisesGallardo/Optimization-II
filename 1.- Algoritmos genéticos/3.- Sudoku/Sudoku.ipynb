{
  "cells": [
    {
      "cell_type": "markdown",
      "metadata": {},
      "source": [
        "Authors:\n",
        "\n",
        "Juan Pablo Enríquez Pedroza 0228903\n",
        "\n",
        "Ulises Gallardo Rodríguez   0229261"
      ]
    },
    {
      "cell_type": "markdown",
      "metadata": {},
      "source": [
        "## Functions"
      ]
    },
    {
      "cell_type": "code",
      "execution_count": 449,
      "metadata": {
        "id": "-xRnxYEuwYjq"
      },
      "outputs": [],
      "source": [
        "import pandas as pd\n",
        "import numpy as np\n",
        "from matplotlib import pyplot as plt\n",
        "import random"
      ]
    },
    {
      "cell_type": "code",
      "execution_count": 450,
      "metadata": {},
      "outputs": [],
      "source": [
        "calls = 0 #Total calls of objetive function\n",
        "idx_valid_to_change = []"
      ]
    },
    {
      "cell_type": "code",
      "execution_count": 451,
      "metadata": {},
      "outputs": [],
      "source": [
        "def read_csv(path):\n",
        "  df = pd.read_csv(path, header=None)\n",
        "  sudoku = df.to_numpy()\n",
        "  return sudoku"
      ]
    },
    {
      "cell_type": "code",
      "execution_count": 452,
      "metadata": {
        "id": "6bQTS_Fb0Dov"
      },
      "outputs": [],
      "source": [
        "def get_population(n, matrix):\n",
        "  r,c = matrix.shape\n",
        "  population = np.zeros([n, r, c], dtype = \"int32\")\n",
        "  permutation = []\n",
        "  left = set(list(range(10)))\n",
        "  for row in range(r):\n",
        "    permutation.append(set(left-set(matrix[row])))\n",
        "\n",
        "  for i in range(n): \n",
        "    population[i] = matrix\n",
        "    for row in range(r):\n",
        "      aux_left = list(permutation[row])\n",
        "      idx = np.where(matrix[row]==0)[0]\n",
        "      idx_valid_to_change.append(idx)\n",
        "      aux_left = np.random.permutation(aux_left)\n",
        "      population[i][row][idx] = aux_left\n",
        "  return population"
      ]
    },
    {
      "cell_type": "code",
      "execution_count": 453,
      "metadata": {
        "id": "phM7XAQ_zMo7"
      },
      "outputs": [],
      "source": [
        "def f(sudoku):\n",
        "  global calls\n",
        "  calls+=1\n",
        "  cost = 0\n",
        "  aux = np.array(sudoku)\n",
        "  aux = aux.transpose()\n",
        "\n",
        "  box = np.zeros([9,9], dtype='int8')\n",
        "  con = 0\n",
        "  fila = 0\n",
        "  for i in range(0,9):\n",
        "    if con%3 == 0 and con!=0:\n",
        "      con = 0\n",
        "      fila+=3\n",
        "    for j in range(0,9):\n",
        "      if j<=2: box[fila][j%3 + 3*(con)] = sudoku[i][j]\n",
        "      if j>2 and j<=5: box[fila+1][j%3 + 3*(con)] = sudoku[i][j]\n",
        "      if j>5: box[fila+2][j%3 + 3*(con)] = sudoku[i][j] \n",
        "    con+=1\n",
        "  \n",
        "  for row in range(len(aux)):\n",
        "    for x in range(1,10):\n",
        "      repeated = np.count_nonzero(aux[row] == (x))\n",
        "      if repeated>1:\n",
        "        cost+=((repeated-1))\n",
        "\n",
        "      rep = np.count_nonzero(box[row] == (x))\n",
        "      if rep >1:\n",
        "        cost+=(rep-1)\n",
        "\n",
        "\n",
        "  return cost"
      ]
    },
    {
      "cell_type": "code",
      "execution_count": 454,
      "metadata": {
        "id": "hqYjPQynxFe_"
      },
      "outputs": [],
      "source": [
        "def plot_solution(individual, title, board_size = 9):\n",
        "  matrix = np.zeros((board_size,board_size))\n",
        "  colors = np.zeros((board_size,board_size))\n",
        "  color_ = 0 #negro\n",
        "  for i in range(9):\n",
        "    if (i)%3==0: color_ = 1-color_\n",
        "    for j in range(9):\n",
        "      matrix[i][j] = color_\n",
        "      colors[i][j] = color_\n",
        "      if (j+1)%3 ==0:\n",
        "        color_ = 1 - color_\n",
        "    color_ = 1 - color_\n",
        "  plt.title(title)\n",
        "  plt.imshow(matrix, cmap='binary')\n",
        "  for i in range(len(individual)):\n",
        "    for j in range(len(individual[i])):\n",
        "      plt.text(j,i, str(int(individual[i][j])) if individual[i][j]>0 else \"\", fontsize=15, ha='center', va='center', color='white' if (colors[i][j]==1) else 'black')\n",
        "  plt.show()"
      ]
    },
    {
      "cell_type": "markdown",
      "metadata": {
        "id": "wVWJxnlo_dmW"
      },
      "source": [
        "## Selection"
      ]
    },
    {
      "cell_type": "code",
      "execution_count": 455,
      "metadata": {
        "id": "dr9wfgBI_2zP"
      },
      "outputs": [],
      "source": [
        "def roulette_selection(fitness):\n",
        "  range_probability = np.zeros((len(fitness), 2))\n",
        "  range_probability[0][0]=0\n",
        "  total = np.sum(fitness)\n",
        "\n",
        "  new_total = 0\n",
        "  aux = fitness.copy()\n",
        "  for i in range(len(aux)):\n",
        "    aux[i] = total - fitness[i]\n",
        "    new_total += aux[i]\n",
        "\n",
        "  for i in range(len(aux)):\n",
        "    PN = (aux[i])/new_total\n",
        "    if i>0:\n",
        "      range_probability[i][0] = range_probability[i-1][1]\n",
        "      range_probability[i][1] = range_probability[i-1][1]+PN\n",
        "    else:\n",
        "      range_probability[i][0] = 0\n",
        "      range_probability[i][1] = PN\n",
        "  p = np.random.random() \n",
        "  #print(range_probability)\n",
        "  for i in range(len(range_probability)):\n",
        "    if p >=range_probability[i][0] and p<range_probability[i][1]:\n",
        "      return i\n"
      ]
    },
    {
      "cell_type": "code",
      "execution_count": 456,
      "metadata": {
        "id": "mwsPIapQ_2h-"
      },
      "outputs": [],
      "source": [
        "def tournament_selection(fitness, k = 2):\n",
        "  parents = random.sample(range(0, len(fitness)), k)\n",
        "  winner = np.argmin(fitness[parents])\n",
        "  return(parents[winner])"
      ]
    },
    {
      "cell_type": "markdown",
      "metadata": {
        "id": "ZImr-NjLaC7O"
      },
      "source": [
        "## Mutation"
      ]
    },
    {
      "cell_type": "code",
      "execution_count": 457,
      "metadata": {
        "id": "ZcS9DxY1aFiC"
      },
      "outputs": [],
      "source": [
        "def swap_mutation(individual):\n",
        "  global idx_valid_to_change\n",
        "\n",
        "  row = np.random.randint(0,9)\n",
        "  idx = idx_valid_to_change[row]\n",
        "  x,y = -1,-1\n",
        "  while x==y:\n",
        "    x = np.random.choice(idx, size=1)\n",
        "    y = np.random.choice(idx, size=1)\n",
        "\n",
        "  individual[row][x], individual[row][y] = individual[row][y], individual[row][x]\n",
        "    \n",
        "  return individual"
      ]
    },
    {
      "cell_type": "code",
      "execution_count": 458,
      "metadata": {
        "id": "aennkfyIa3D-"
      },
      "outputs": [],
      "source": [
        "def mutate(Population, Pm): \n",
        "  for i in range(len(Population)):\n",
        "    p = np.random.random()\n",
        "    if p < Pm:\n",
        "      Population[i] = np.copy(swap_mutation(Population[i]))\n",
        "\n",
        "  return Population"
      ]
    },
    {
      "cell_type": "markdown",
      "metadata": {
        "id": "HGX_NttKFAJY"
      },
      "source": [
        "## Crossover"
      ]
    },
    {
      "cell_type": "code",
      "execution_count": 459,
      "metadata": {
        "id": "leuheusIchqF"
      },
      "outputs": [],
      "source": [
        "def simple_permutation_crossover(parentA, parentB, Begin):\n",
        "  offspring = np.zeros(parentA.shape, dtype = np.chararray)\n",
        "  offspring[:int(len(parentA)/Begin)] = parentA[:int(len(parentA)/Begin)]\n",
        "  offspring[int(len(parentA)/Begin):] = parentB[int(len(parentA)/Begin):]\n",
        "  return offspring"
      ]
    },
    {
      "cell_type": "code",
      "execution_count": 460,
      "metadata": {
        "id": "zDbpbOhKFCMS"
      },
      "outputs": [],
      "source": [
        "def crossover(population,fitness,pop_size, Pr):\n",
        "  n,r,c = population.shape\n",
        "  offspring = np.zeros([n,r,c])\n",
        "\n",
        "  for i in range(offspring.shape[0]):\n",
        "    p = np.random.random()\n",
        "    if p < Pr:\n",
        "      parentA = (tournament_selection(fitness))\n",
        "      parentB = (tournament_selection(fitness))\n",
        "\n",
        "      n = np.random.choice(range(1,9-1), size=1)\n",
        "      offspring[i] = np.copy(simple_permutation_crossover(np.copy(population[parentA]), np.copy(population[parentB]),n))\n",
        "    else:\n",
        "      parent = np.copy(tournament_selection(fitness))\n",
        "      offspring[i] = np.copy(population[parent])\n",
        "      \n",
        "  return offspring"
      ]
    },
    {
      "cell_type": "markdown",
      "metadata": {
        "id": "dfTgdACi_jFQ"
      },
      "source": [
        "## Algorithm"
      ]
    },
    {
      "cell_type": "code",
      "execution_count": 461,
      "metadata": {
        "id": "6K6Qbxq41STR"
      },
      "outputs": [],
      "source": [
        "def genetic_algorithm(pop_size = 30, G = 100, Pr = 0.8, Pm = 0.3):\n",
        "  original = read_csv(\"input04.csv\")\n",
        "  plot_solution(original,\"ORIGINAL\")\n",
        "  population = get_population(pop_size, original)\n",
        "\n",
        "  fitness = np.zeros(pop_size)\n",
        "  elite = np.zeros(2)\n",
        "  g = 0\n",
        "\n",
        "  for i, individual in enumerate(population):\n",
        "    fitness[i] = f(individual)\n",
        "  \n",
        "  elite = [min(fitness), np.copy(population[np.argmin(fitness)])]\n",
        "  \n",
        "  while g < G:\n",
        "    population = np.copy(crossover(population,fitness,pop_size, Pr))\n",
        "    population = np.copy(mutate(population,Pm))\n",
        "    \n",
        "    for i, individual in enumerate(population):\n",
        "      fitness[i] = f(individual)\n",
        "   \n",
        "    actual_elite = [min(fitness), np.copy(population[np.argmin(fitness)])]\n",
        "    \n",
        "    if actual_elite[0] < elite[0]:\n",
        "      elite = np.copy(actual_elite)\n",
        "    else:\n",
        "      population[np.argmin(fitness)] = np.copy(elite[1])\n",
        "    \n",
        "    if(int(actual_elite[0]) == 0): break\n",
        "\n",
        "    g += 1\n",
        "    print(\"Generation:\", g)\n",
        "    #print(\"Avg\", np.sort(fitness))\n",
        "    print(\"Elite \",g,\" : \",elite[0])\n",
        "  print(\"TOTAL CALLS TO OBJETIVE FUNCTION: \", calls)\n",
        "  print(\"SOLUTION:\")\n",
        "  plot_solution(elite[1], \"SOLUTION with \" + str(int(elite[0])) +\" error\")\n"
      ]
    },
    {
      "cell_type": "code",
      "execution_count": 462,
      "metadata": {
        "colab": {
          "base_uri": "https://localhost:8080/",
          "height": 1000
        },
        "id": "13OgMvAfzQL9",
        "outputId": "c731ac83-cffc-4cc8-de8e-d37bee572434"
      },
      "outputs": [
        {
          "data": {
            "image/png": "[encoded data removed]",
            "text/plain": [
              "<Figure size 432x288 with 1 Axes>"
            ]
          },
          "metadata": {
            "needs_background": "light"
          },
          "output_type": "display_data"
        },
        {
          "name": "stdout",
          "output_type": "stream",
          "text": [
            "Generation: 1\n",
            "Elite  1  :  32.0\n",
            "Generation: 2\n",
            "Elite  2  :  30.0\n",
            "Generation: 3\n",
            "Elite  3  :  30.0\n",
            "Generation: 4\n",
            "Elite  4  :  29.0\n",
            "Generation: 5\n",
            "Elite  5  :  29.0\n",
            "Generation: 6\n",
            "Elite  6  :  27.0\n",
            "Generation: 7\n",
            "Elite  7  :  27.0\n",
            "Generation: 8\n",
            "Elite  8  :  27.0\n",
            "Generation: 9\n",
            "Elite  9  :  26.0\n",
            "Generation: 10\n",
            "Elite  10  :  26.0\n",
            "Generation: 11\n",
            "Elite  11  :  23.0\n",
            "Generation: 12\n",
            "Elite  12  :  23.0\n"
          ]
        },
        {
          "name": "stderr",
          "output_type": "stream",
          "text": [
            "c:\\Users\\Ulises\\anaconda3\\lib\\site-packages\\numpy\\lib\\function_base.py:804: VisibleDeprecationWarning: Creating an ndarray from ragged nested sequences (which is a list-or-tuple of lists-or-tuples-or ndarrays with different lengths or shapes) is deprecated. If you meant to do this, you must specify 'dtype=object' when creating the ndarray.\n",
            "  return array(a, order=order, subok=subok, copy=True)\n"
          ]
        },
        {
          "name": "stdout",
          "output_type": "stream",
          "text": [
            "Generation: 13\n",
            "Elite  13  :  23.0\n",
            "Generation: 14\n",
            "Elite  14  :  22.0\n",
            "Generation: 15\n",
            "Elite  15  :  22.0\n",
            "Generation: 16\n",
            "Elite  16  :  22.0\n",
            "Generation: 17\n",
            "Elite  17  :  21.0\n",
            "Generation: 18\n",
            "Elite  18  :  21.0\n",
            "Generation: 19\n",
            "Elite  19  :  21.0\n",
            "Generation: 20\n",
            "Elite  20  :  21.0\n",
            "Generation: 21\n",
            "Elite  21  :  19.0\n",
            "Generation: 22\n",
            "Elite  22  :  19.0\n",
            "Generation: 23\n",
            "Elite  23  :  19.0\n",
            "Generation: 24\n",
            "Elite  24  :  19.0\n",
            "Generation: 25\n",
            "Elite  25  :  19.0\n",
            "Generation: 26\n",
            "Elite  26  :  19.0\n",
            "Generation: 27\n",
            "Elite  27  :  19.0\n",
            "Generation: 28\n",
            "Elite  28  :  17.0\n",
            "Generation: 29\n",
            "Elite  29  :  17.0\n",
            "Generation: 30\n",
            "Elite  30  :  17.0\n",
            "Generation: 31\n",
            "Elite  31  :  17.0\n",
            "Generation: 32\n",
            "Elite  32  :  17.0\n",
            "Generation: 33\n",
            "Elite  33  :  17.0\n",
            "Generation: 34\n",
            "Elite  34  :  17.0\n",
            "Generation: 35\n",
            "Elite  35  :  17.0\n",
            "Generation: 36\n",
            "Elite  36  :  17.0\n",
            "Generation: 37\n",
            "Elite  37  :  15.0\n",
            "Generation: 38\n",
            "Elite  38  :  15.0\n",
            "Generation: 39\n",
            "Elite  39  :  15.0\n",
            "Generation: 40\n",
            "Elite  40  :  15.0\n",
            "Generation: 41\n",
            "Elite  41  :  15.0\n",
            "Generation: 42\n",
            "Elite  42  :  15.0\n",
            "Generation: 43\n",
            "Elite  43  :  15.0\n",
            "Generation: 44\n",
            "Elite  44  :  15.0\n",
            "Generation: 45\n",
            "Elite  45  :  15.0\n",
            "Generation: 46\n",
            "Elite  46  :  13.0\n",
            "Generation: 47\n",
            "Elite  47  :  13.0\n",
            "Generation: 48\n",
            "Elite  48  :  11.0\n",
            "Generation: 49\n",
            "Elite  49  :  11.0\n",
            "Generation: 50\n",
            "Elite  50  :  11.0\n",
            "Generation: 51\n",
            "Elite  51  :  11.0\n",
            "Generation: 52\n",
            "Elite  52  :  11.0\n",
            "Generation: 53\n",
            "Elite  53  :  11.0\n",
            "Generation: 54\n",
            "Elite  54  :  11.0\n",
            "Generation: 55\n",
            "Elite  55  :  11.0\n",
            "Generation: 56\n",
            "Elite  56  :  11.0\n",
            "Generation: 57\n",
            "Elite  57  :  11.0\n",
            "Generation: 58\n",
            "Elite  58  :  10.0\n",
            "Generation: 59\n",
            "Elite  59  :  10.0\n",
            "Generation: 60\n",
            "Elite  60  :  10.0\n",
            "Generation: 61\n",
            "Elite  61  :  10.0\n",
            "Generation: 62\n",
            "Elite  62  :  9.0\n",
            "Generation: 63\n",
            "Elite  63  :  9.0\n",
            "Generation: 64\n",
            "Elite  64  :  9.0\n",
            "Generation: 65\n",
            "Elite  65  :  9.0\n",
            "Generation: 66\n",
            "Elite  66  :  8.0\n",
            "Generation: 67\n",
            "Elite  67  :  7.0\n",
            "Generation: 68\n",
            "Elite  68  :  7.0\n",
            "Generation: 69\n",
            "Elite  69  :  7.0\n",
            "Generation: 70\n",
            "Elite  70  :  7.0\n",
            "Generation: 71\n",
            "Elite  71  :  7.0\n",
            "Generation: 72\n",
            "Elite  72  :  7.0\n",
            "Generation: 73\n",
            "Elite  73  :  7.0\n",
            "Generation: 74\n",
            "Elite  74  :  7.0\n",
            "Generation: 75\n",
            "Elite  75  :  7.0\n",
            "Generation: 76\n",
            "Elite  76  :  7.0\n",
            "Generation: 77\n",
            "Elite  77  :  7.0\n",
            "Generation: 78\n",
            "Elite  78  :  7.0\n",
            "Generation: 79\n",
            "Elite  79  :  7.0\n",
            "Generation: 80\n",
            "Elite  80  :  7.0\n",
            "Generation: 81\n",
            "Elite  81  :  7.0\n",
            "Generation: 82\n",
            "Elite  82  :  7.0\n",
            "Generation: 83\n",
            "Elite  83  :  7.0\n",
            "Generation: 84\n",
            "Elite  84  :  7.0\n",
            "Generation: 85\n",
            "Elite  85  :  7.0\n",
            "Generation: 86\n",
            "Elite  86  :  7.0\n",
            "Generation: 87\n",
            "Elite  87  :  7.0\n",
            "Generation: 88\n",
            "Elite  88  :  7.0\n",
            "Generation: 89\n",
            "Elite  89  :  7.0\n",
            "Generation: 90\n",
            "Elite  90  :  7.0\n",
            "Generation: 91\n",
            "Elite  91  :  6.0\n",
            "Generation: 92\n",
            "Elite  92  :  6.0\n",
            "Generation: 93\n",
            "Elite  93  :  6.0\n",
            "Generation: 94\n",
            "Elite  94  :  6.0\n",
            "Generation: 95\n",
            "Elite  95  :  6.0\n",
            "Generation: 96\n",
            "Elite  96  :  6.0\n",
            "Generation: 97\n",
            "Elite  97  :  6.0\n",
            "Generation: 98\n",
            "Elite  98  :  6.0\n",
            "Generation: 99\n",
            "Elite  99  :  6.0\n",
            "Generation: 100\n",
            "Elite  100  :  6.0\n",
            "Generation: 101\n",
            "Elite  101  :  6.0\n",
            "Generation: 102\n",
            "Elite  102  :  6.0\n",
            "Generation: 103\n",
            "Elite  103  :  6.0\n",
            "Generation: 104\n",
            "Elite  104  :  6.0\n",
            "Generation: 105\n",
            "Elite  105  :  6.0\n",
            "Generation: 106\n",
            "Elite  106  :  4.0\n",
            "Generation: 107\n",
            "Elite  107  :  4.0\n",
            "Generation: 108\n",
            "Elite  108  :  4.0\n",
            "Generation: 109\n",
            "Elite  109  :  4.0\n",
            "Generation: 110\n",
            "Elite  110  :  4.0\n",
            "Generation: 111\n",
            "Elite  111  :  2.0\n",
            "Generation: 112\n",
            "Elite  112  :  2.0\n",
            "Generation: 113\n",
            "Elite  113  :  2.0\n",
            "Generation: 114\n",
            "Elite  114  :  2.0\n",
            "Generation: 115\n",
            "Elite  115  :  2.0\n",
            "Generation: 116\n",
            "Elite  116  :  2.0\n",
            "Generation: 117\n",
            "Elite  117  :  2.0\n",
            "Generation: 118\n",
            "Elite  118  :  2.0\n",
            "Generation: 119\n",
            "Elite  119  :  2.0\n",
            "Generation: 120\n",
            "Elite  120  :  2.0\n",
            "Generation: 121\n",
            "Elite  121  :  2.0\n",
            "Generation: 122\n",
            "Elite  122  :  2.0\n",
            "Generation: 123\n",
            "Elite  123  :  2.0\n",
            "Generation: 124\n",
            "Elite  124  :  2.0\n",
            "Generation: 125\n",
            "Elite  125  :  2.0\n",
            "Generation: 126\n",
            "Elite  126  :  2.0\n",
            "Generation: 127\n",
            "Elite  127  :  2.0\n",
            "TOTAL CALLS TO OBJETIVE FUNCTION:  3870\n",
            "SOLUTION:\n"
          ]
        },
        {
          "data": {
            "image/png": "[encoded data removed]",
            "text/plain": [
              "<Figure size 432x288 with 1 Axes>"
            ]
          },
          "metadata": {
            "needs_background": "light"
          },
          "output_type": "display_data"
        }
      ],
      "source": [
        "pop_size = 30         #Population size\n",
        "G = 3000            #Number of generations\n",
        "Pr = 0.9            #Reproduction probability\n",
        "Pm = 0.25               #Mutation probability\n",
        "genetic_algorithm(pop_size, G, Pr, Pm)"
      ]
    }
  ],
  "metadata": {
    "colab": {
      "collapsed_sections": [],
      "name": "Algoritmo genético",
      "provenance": []
    },
    "kernelspec": {
      "display_name": "Python 3.9.12 ('base')",
      "language": "python",
      "name": "python3"
    },
    "language_info": {
      "codemirror_mode": {
        "name": "ipython",
        "version": 3
      },
      "file_extension": ".py",
      "mimetype": "text/x-python",
      "name": "python",
      "nbconvert_exporter": "python",
      "pygments_lexer": "ipython3",
      "version": "3.9.12"
    },
    "vscode": {
      "interpreter": {
        "hash": "75452d903801b36f815cbe0b287f467b902c6d3dd867d618adaca35749f005bd"
      }
    }
  },
  "nbformat": 4,
  "nbformat_minor": 0
}
